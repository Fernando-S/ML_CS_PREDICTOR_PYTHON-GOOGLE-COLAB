{
 "cells": [
  {
   "cell_type": "code",
   "execution_count": 1,
   "metadata": {},
   "outputs": [
    {
     "ename": "FileNotFoundError",
     "evalue": "[Errno 2] No such file or directory: 'file.py'",
     "output_type": "error",
     "traceback": [
      "\u001b[1;31m---------------------------------------------------------------------------\u001b[0m",
      "\u001b[1;31mFileNotFoundError\u001b[0m                         Traceback (most recent call last)",
      "\u001b[1;32m<ipython-input-1-0a3dd6ffcd8e>\u001b[0m in \u001b[0;36m<module>\u001b[1;34m\u001b[0m\n\u001b[0;32m     48\u001b[0m \u001b[1;33m\u001b[0m\u001b[0m\n\u001b[0;32m     49\u001b[0m \u001b[1;33m\u001b[0m\u001b[0m\n\u001b[1;32m---> 50\u001b[1;33m \u001b[0mmain\u001b[0m\u001b[1;33m(\u001b[0m\u001b[1;33m)\u001b[0m\u001b[1;33m\u001b[0m\u001b[1;33m\u001b[0m\u001b[0m\n\u001b[0m",
      "\u001b[1;32m<ipython-input-1-0a3dd6ffcd8e>\u001b[0m in \u001b[0;36mmain\u001b[1;34m()\u001b[0m\n\u001b[0;32m     42\u001b[0m \u001b[1;33m\u001b[0m\u001b[0m\n\u001b[0;32m     43\u001b[0m \u001b[1;32mdef\u001b[0m \u001b[0mmain\u001b[0m\u001b[1;33m(\u001b[0m\u001b[1;33m)\u001b[0m\u001b[1;33m:\u001b[0m\u001b[1;33m\u001b[0m\u001b[1;33m\u001b[0m\u001b[0m\n\u001b[1;32m---> 44\u001b[1;33m     \u001b[0mmain_file\u001b[0m \u001b[1;33m=\u001b[0m \u001b[0mopen\u001b[0m\u001b[1;33m(\u001b[0m\u001b[0mpython_file\u001b[0m\u001b[1;33m,\u001b[0m \u001b[1;34m'r+'\u001b[0m\u001b[1;33m)\u001b[0m\u001b[1;33m\u001b[0m\u001b[1;33m\u001b[0m\u001b[0m\n\u001b[0m\u001b[0;32m     45\u001b[0m     \u001b[0mwork_file\u001b[0m \u001b[1;33m=\u001b[0m \u001b[0mf2list\u001b[0m\u001b[1;33m(\u001b[0m\u001b[0mmain_file\u001b[0m\u001b[1;33m)\u001b[0m\u001b[1;33m\u001b[0m\u001b[1;33m\u001b[0m\u001b[0m\n\u001b[0;32m     46\u001b[0m     \u001b[0mwork_file\u001b[0m \u001b[1;33m=\u001b[0m \u001b[0ml2pseudo\u001b[0m\u001b[1;33m(\u001b[0m\u001b[0mwork_file\u001b[0m\u001b[1;33m)\u001b[0m\u001b[1;33m\u001b[0m\u001b[1;33m\u001b[0m\u001b[0m\n",
      "\u001b[1;31mFileNotFoundError\u001b[0m: [Errno 2] No such file or directory: 'file.py'"
     ]
    }
   ],
   "source": [
    "import re\n",
    "\n",
    "python_file = 'file.py'\n",
    "work_file = None\n",
    "\n",
    "basic_conversion_rules = {\"for\": \"FOR\", \"=\": \"TO\", \"if\": \"IF\", \"==\": \"EQUALS\", \"while\": \"WHILE\", \"until\": \"UNTIL\", \"import\": \"IMPORT\", \"class\": \"DEFINE CLASS\", \"def\": \"DEFINE FUNCTION\", \"else:\": \"ELSE:\", \"elif\": \"ELSEIF\", \"except:\": \"EXCEPT:\", \"try:\": \"TRY:\", \"pass\": \"PASS\", \"in\": \"IN\"}\n",
    "prefix_conversion_rules = {\"=\": \"SET \", \"#F\": \"CALL \"}\n",
    "advanced_conversion_rules = {\"print\": \"OUTPUT\", \"return\": \"RETURN\", \"input\": \"INPUT\"}\n",
    "\n",
    "def f2list(to_list):\n",
    "    return to_list.readlines()\n",
    "\n",
    "def l2pseudo(to_pseudo):\n",
    "    for line in to_pseudo:\n",
    "        line_index = to_pseudo.index(line)\n",
    "        line = str(line)\n",
    "        line = re.split(r'(\\s+)', line)\n",
    "        for key, value in prefix_conversion_rules.items():\n",
    "            if key in line:\n",
    "                if not str(line[0]) == '':\n",
    "                    line[0] = value + line[0]\n",
    "                else:\n",
    "                    line[2] = value + line[2]\n",
    "        for key, value in basic_conversion_rules.items():\n",
    "            for word in line:\n",
    "                if key == str(word):\n",
    "                    line[line.index(word)] = value\n",
    "        for key, value in advanced_conversion_rules.items():\n",
    "            for word in line:\n",
    "                line[line.index(word)] = word.replace(key, value)\n",
    "        for key, value in prefix_conversion_rules.items():\n",
    "            for word in line:\n",
    "                if word == key:\n",
    "                    del line[line.index(word)]\n",
    "        to_pseudo[line_index]= \"\".join(line)\n",
    "    return(to_pseudo)\n",
    "\n",
    "def p2file(to_file):\n",
    "    file = open(python_file + '_pseudo.txt', 'w')\n",
    "    for line in to_file:\n",
    "        print(line, file=file)\n",
    "\n",
    "def main():\n",
    "    main_file = open(python_file, 'r+')\n",
    "    work_file = f2list(main_file)\n",
    "    work_file = l2pseudo(work_file)\n",
    "    p2file(work_file)\n",
    "    \n",
    "\n",
    "main()\n"
   ]
  }
 ],
 "metadata": {
  "kernelspec": {
   "display_name": "Python 3",
   "language": "python",
   "name": "python3"
  },
  "language_info": {
   "codemirror_mode": {
    "name": "ipython",
    "version": 3
   },
   "file_extension": ".py",
   "mimetype": "text/x-python",
   "name": "python",
   "nbconvert_exporter": "python",
   "pygments_lexer": "ipython3",
   "version": "3.7.5"
  }
 },
 "nbformat": 4,
 "nbformat_minor": 4
}
